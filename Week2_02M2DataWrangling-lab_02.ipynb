{
 "cells": [
  {
   "cell_type": "markdown",
   "metadata": {},
   "source": [
    "<p style=\"text-align:center\">\n",
    "    <a href=\"https://skills.network/?utm_medium=Exinfluencer&utm_source=Exinfluencer&utm_content=000026UJ&utm_term=10006555&utm_id=NA-SkillsNetwork-Channel-SkillsNetworkCoursesIBMDA0321ENSkillsNetwork928-2022-01-01\" target=\"_blank\">\n",
    "    <img src=\"https://cf-courses-data.s3.us.cloud-object-storage.appdomain.cloud/assets/logos/SN_web_lightmode.png\" width=\"200\" alt=\"Skills Network Logo\"  />\n",
    "    </a>\n",
    "</p>\n"
   ]
  },
  {
   "cell_type": "markdown",
   "metadata": {},
   "source": [
    "# **Data Wrangling Lab**\n"
   ]
  },
  {
   "cell_type": "markdown",
   "metadata": {},
   "source": [
    "Estimated time needed: **45 to 60** minutes\n"
   ]
  },
  {
   "cell_type": "markdown",
   "metadata": {},
   "source": [
    "In this assignment you will be performing data wrangling.\n"
   ]
  },
  {
   "cell_type": "markdown",
   "metadata": {},
   "source": [
    "## Objectives\n"
   ]
  },
  {
   "cell_type": "markdown",
   "metadata": {},
   "source": [
    "In this lab you will perform the following:\n"
   ]
  },
  {
   "cell_type": "markdown",
   "metadata": {},
   "source": [
    "-   Identify duplicate values in the dataset.\n",
    "\n",
    "-   Remove duplicate values from the dataset.\n",
    "\n",
    "-   Identify missing values in the dataset.\n",
    "\n",
    "-   Impute the missing values in the dataset.\n",
    "\n",
    "-   Normalize data in the dataset.\n"
   ]
  },
  {
   "cell_type": "markdown",
   "metadata": {},
   "source": [
    "<hr>\n"
   ]
  },
  {
   "cell_type": "markdown",
   "metadata": {},
   "source": [
    "## Hands on Lab\n"
   ]
  },
  {
   "cell_type": "markdown",
   "metadata": {},
   "source": [
    "Import pandas module.\n"
   ]
  },
  {
   "cell_type": "code",
   "execution_count": 1,
   "metadata": {},
   "outputs": [],
   "source": [
    "import pandas as pd"
   ]
  },
  {
   "cell_type": "markdown",
   "metadata": {},
   "source": [
    "Load the dataset into a dataframe.\n"
   ]
  },
  {
   "cell_type": "code",
   "execution_count": 2,
   "metadata": {},
   "outputs": [],
   "source": [
    "df = pd.read_csv(\"https://cf-courses-data.s3.us.cloud-object-storage.appdomain.cloud/IBM-DA0321EN-SkillsNetwork/LargeData/m1_survey_data.csv\")"
   ]
  },
  {
   "cell_type": "markdown",
   "metadata": {},
   "source": [
    "## Finding duplicates\n"
   ]
  },
  {
   "cell_type": "markdown",
   "metadata": {},
   "source": [
    "In this section you will identify duplicate values in the dataset.\n"
   ]
  },
  {
   "cell_type": "markdown",
   "metadata": {},
   "source": [
    " Find how many duplicate rows exist in the dataframe.\n"
   ]
  },
  {
   "cell_type": "code",
   "execution_count": 3,
   "metadata": {},
   "outputs": [
    {
     "name": "stdout",
     "output_type": "stream",
     "text": [
      "The number of duplicate rows in the dataframe is: 154\n"
     ]
    }
   ],
   "source": [
    "# your code goes here\n",
    "\n",
    "num_duplicates = df.duplicated().sum()\n",
    "\n",
    "# Print the number of duplicate rows\n",
    "print(f\"The number of duplicate rows in the dataframe is: {num_duplicates}\")"
   ]
  },
  {
   "cell_type": "markdown",
   "metadata": {},
   "source": [
    "## Removing duplicates\n"
   ]
  },
  {
   "cell_type": "markdown",
   "metadata": {},
   "source": [
    "Remove the duplicate rows from the dataframe.\n"
   ]
  },
  {
   "cell_type": "code",
   "execution_count": 4,
   "metadata": {},
   "outputs": [
    {
     "name": "stdout",
     "output_type": "stream",
     "text": [
      "Shape of the original DataFrame: (11552, 85)\n",
      "Shape of the DataFrame after removing duplicates: (11398, 85)\n"
     ]
    }
   ],
   "source": [
    "# your code goes here\n",
    "\n",
    "# Remove duplicate rows\n",
    "df_no_duplicates = df.drop_duplicates()\n",
    "\n",
    "# Print the shape of the DataFrame before and after removing duplicates\n",
    "print(f\"Shape of the original DataFrame: {df.shape}\")\n",
    "print(f\"Shape of the DataFrame after removing duplicates: {df_no_duplicates.shape}\")"
   ]
  },
  {
   "cell_type": "markdown",
   "metadata": {},
   "source": [
    "Verify if duplicates were actually dropped.\n"
   ]
  },
  {
   "cell_type": "code",
   "execution_count": 5,
   "metadata": {},
   "outputs": [
    {
     "name": "stdout",
     "output_type": "stream",
     "text": [
      "Duplicates were successfully removed.\n"
     ]
    }
   ],
   "source": [
    "# your code goes here\n",
    "\n",
    "# Verify if duplicates were dropped\n",
    "if df.shape[0] == df_no_duplicates.shape[0]:\n",
    "    print(\"No duplicates were found.\")\n",
    "else:\n",
    "    print(\"Duplicates were successfully removed.\")"
   ]
  },
  {
   "cell_type": "markdown",
   "metadata": {},
   "source": [
    "## Finding Missing values\n"
   ]
  },
  {
   "cell_type": "markdown",
   "metadata": {},
   "source": [
    "Find the missing values for all columns.\n"
   ]
  },
  {
   "cell_type": "code",
   "execution_count": 6,
   "metadata": {},
   "outputs": [
    {
     "name": "stdout",
     "output_type": "stream",
     "text": [
      "Missing values for each column:\n",
      "Respondent        0\n",
      "MainBranch        0\n",
      "Hobbyist          0\n",
      "OpenSourcer       0\n",
      "OpenSource       81\n",
      "               ... \n",
      "Sexuality       547\n",
      "Ethnicity       683\n",
      "Dependents      144\n",
      "SurveyLength     19\n",
      "SurveyEase       14\n",
      "Length: 85, dtype: int64\n"
     ]
    }
   ],
   "source": [
    "# your code goes here\n",
    "# Find missing values for all columns\n",
    "missing_values = df.isnull().sum()\n",
    "\n",
    "# Print the missing values for each column\n",
    "print(\"Missing values for each column:\")\n",
    "print(missing_values)"
   ]
  },
  {
   "cell_type": "markdown",
   "metadata": {},
   "source": [
    "Find out how many rows are missing in the column 'WorkLoc'\n"
   ]
  },
  {
   "cell_type": "code",
   "execution_count": 9,
   "metadata": {},
   "outputs": [
    {
     "name": "stdout",
     "output_type": "stream",
     "text": [
      "The number of unique rows in the 'Respondent' column after removing duplicates is: 11398\n",
      "The number of blank rows in the 'EdLevel' column after removing duplicates is: 112\n",
      "The number of missing rows in the 'Country' column after removing duplicates is: 0\n"
     ]
    }
   ],
   "source": [
    "# your code goes here\n",
    "\n",
    "# Remove duplicate rows\n",
    "df_no_duplicates = df.drop_duplicates()\n",
    "\n",
    "# Get the number of unique rows in the 'Respondent' column\n",
    "unique_respondents = df_no_duplicates['Respondent'].nunique()\n",
    "\n",
    "# Print the number of unique rows\n",
    "print(f\"The number of unique rows in the 'Respondent' column after removing duplicates is: {unique_respondents}\")\n",
    "\n",
    "# Count the number of blank rows in the 'EdLevel' column\n",
    "blank_edlevel_rows = df_no_duplicates['EdLevel'].isnull().sum()\n",
    "\n",
    "# Print the number of blank rows\n",
    "print(f\"The number of blank rows in the 'EdLevel' column after removing duplicates is: {blank_edlevel_rows}\")\n",
    "\n",
    "\n",
    "# Count the number of missing rows in the 'Country' column\n",
    "missing_country_rows = df_no_duplicates['Country'].isnull().sum()\n",
    "\n",
    "# Print the number of missing rows\n",
    "print(f\"The number of missing rows in the 'Country' column after removing duplicates is: {missing_country_rows}\")"
   ]
  },
  {
   "cell_type": "code",
   "execution_count": 10,
   "metadata": {},
   "outputs": [
    {
     "name": "stdout",
     "output_type": "stream",
     "text": [
      "The majority category in the 'Employment' column is: Employed full-time\n"
     ]
    }
   ],
   "source": [
    "# Get value counts for the 'Employment' column\n",
    "employment_value_counts = df_no_duplicates['Employment'].value_counts()\n",
    "\n",
    "# Identify the majority category\n",
    "majority_employment_category = employment_value_counts.idxmax()\n",
    "\n",
    "# Print the majority category in the 'Employment' column\n",
    "print(f\"The majority category in the 'Employment' column is: {majority_employment_category}\")"
   ]
  },
  {
   "cell_type": "code",
   "execution_count": 11,
   "metadata": {},
   "outputs": [
    {
     "name": "stdout",
     "output_type": "stream",
     "text": [
      "The category with the minimum number of rows in the 'UndergradMajor' column is: A health science (ex. nursing, pharmacy, radiology)\n"
     ]
    }
   ],
   "source": [
    "# Get value counts for the 'UndergradMajor' column\n",
    "undergradmajor_value_counts = df_no_duplicates['UndergradMajor'].value_counts()\n",
    "\n",
    "# Identify the category with the minimum number of rows\n",
    "min_rows_category = undergradmajor_value_counts.idxmin()\n",
    "\n",
    "# Print the category with the minimum number of rows in the 'UndergradMajor' column\n",
    "print(f\"The category with the minimum number of rows in the 'UndergradMajor' column is: {min_rows_category}\")"
   ]
  },
  {
   "cell_type": "code",
   "execution_count": 13,
   "metadata": {},
   "outputs": [],
   "source": [
    "mean_value = df['ConvertedComp'].mean()\n",
    "df['ConvertedComp'] = df['ConvertedComp'].fillna(mean_value)\n",
    "\n",
    "#df['ConvertedComp'] = df['ConvertedComp'].fillna(method='ffill')  # Forward fill\n",
    "#df['ConvertedComp'] = df['ConvertedComp'].fillna(method='bfill')  # Backward fill\n",
    "\n",
    "#from sklearn.impute import SimpleImputer\n",
    "#from sklearn.linear_model import LinearRegression\n",
    "\n",
    "# Create a simple imputer using a linear regression model\n",
    "#imputer = SimpleImputer(strategy='mean')\n",
    "#df['ConvertedComp'] = imputer.fit_transform(df[['Feature1', 'Feature2', ..., 'FeatureN', 'ConvertedComp']])\n",
    "\n",
    "#df['ConvertedComp'] = df['ConvertedComp'].fillna(-1)  # Replace with -1 or any other appropriate placeholder"
   ]
  },
  {
   "cell_type": "code",
   "execution_count": 14,
   "metadata": {},
   "outputs": [
    {
     "name": "stdout",
     "output_type": "stream",
     "text": [
      "The number of unique values in the 'CompFreq' column is: 3\n"
     ]
    }
   ],
   "source": [
    "# Get the number of unique values in the 'CompFreq' column\n",
    "unique_values_compfreq = df['CompFreq'].nunique()\n",
    "\n",
    "# Print the number of unique values\n",
    "print(f\"The number of unique values in the 'CompFreq' column is: {unique_values_compfreq}\")"
   ]
  },
  {
   "cell_type": "code",
   "execution_count": 15,
   "metadata": {},
   "outputs": [
    {
     "name": "stdout",
     "output_type": "stream",
     "text": [
      "The number of respondents being paid yearly after removing duplicates is: 6073\n"
     ]
    }
   ],
   "source": [
    "# Remove duplicate rows\n",
    "df_no_duplicates = df.drop_duplicates()\n",
    "\n",
    "# Filter the DataFrame for respondents being paid yearly\n",
    "yearly_paid_respondents = df_no_duplicates[df_no_duplicates['CompFreq'] == 'Yearly']\n",
    "\n",
    "# Get the number of respondents being paid yearly\n",
    "num_yearly_paid_respondents = yearly_paid_respondents['Respondent'].nunique()\n",
    "\n",
    "# Print the number of respondents being paid yearly\n",
    "print(f\"The number of respondents being paid yearly after removing duplicates is: {num_yearly_paid_respondents}\")"
   ]
  },
  {
   "cell_type": "code",
   "execution_count": 16,
   "metadata": {},
   "outputs": [
    {
     "name": "stdout",
     "output_type": "stream",
     "text": [
      "The median NormalizedAnnualCompensation is: 100000.0\n"
     ]
    }
   ],
   "source": [
    "# Create a new column 'NormalizedAnnualCompensation'\n",
    "df['NormalizedAnnualCompensation'] = df.apply(lambda row: row['CompTotal'] * 12 if row['CompFreq'] == 'Monthly' else (row['CompTotal'] * 52 if row['CompFreq'] == 'Weekly' else row['CompTotal']), axis=1)\n",
    "\n",
    "# Calculate the median of 'NormalizedAnnualCompensation'\n",
    "median_normalized_compensation = df['NormalizedAnnualCompensation'].median()\n",
    "\n",
    "# Print the median\n",
    "print(f\"The median NormalizedAnnualCompensation is: {median_normalized_compensation}\")"
   ]
  },
  {
   "cell_type": "markdown",
   "metadata": {},
   "source": [
    "## Imputing missing values\n"
   ]
  },
  {
   "cell_type": "markdown",
   "metadata": {},
   "source": [
    "Find the  value counts for the column WorkLoc.\n"
   ]
  },
  {
   "cell_type": "code",
   "execution_count": null,
   "metadata": {},
   "outputs": [],
   "source": [
    "# your code goes here\n"
   ]
  },
  {
   "cell_type": "markdown",
   "metadata": {},
   "source": [
    "Identify the value that is most frequent (majority) in the WorkLoc column.\n"
   ]
  },
  {
   "cell_type": "code",
   "execution_count": 2,
   "metadata": {},
   "outputs": [],
   "source": [
    "#make a note of the majority value here, for future reference\n",
    "#"
   ]
  },
  {
   "cell_type": "markdown",
   "metadata": {},
   "source": [
    "Impute (replace) all the empty rows in the column WorkLoc with the value that you have identified as majority.\n"
   ]
  },
  {
   "cell_type": "code",
   "execution_count": null,
   "metadata": {},
   "outputs": [],
   "source": [
    "# your code goes here\n"
   ]
  },
  {
   "cell_type": "markdown",
   "metadata": {},
   "source": [
    "After imputation there should ideally not be any empty rows in the WorkLoc column.\n"
   ]
  },
  {
   "cell_type": "markdown",
   "metadata": {},
   "source": [
    "Verify if imputing was successful.\n"
   ]
  },
  {
   "cell_type": "code",
   "execution_count": null,
   "metadata": {},
   "outputs": [],
   "source": [
    "# your code goes here\n"
   ]
  },
  {
   "cell_type": "markdown",
   "metadata": {},
   "source": [
    "## Normalizing data\n"
   ]
  },
  {
   "cell_type": "markdown",
   "metadata": {},
   "source": [
    "There are two columns in the dataset that talk about compensation.\n",
    "\n",
    "One is \"CompFreq\". This column shows how often a developer is paid (Yearly, Monthly, Weekly).\n",
    "\n",
    "The other is \"CompTotal\". This column talks about how much the developer is paid per Year, Month, or Week depending upon his/her \"CompFreq\". \n",
    "\n",
    "This makes it difficult to compare the total compensation of the developers.\n",
    "\n",
    "In this section you will create a new column called 'NormalizedAnnualCompensation' which contains the 'Annual Compensation' irrespective of the 'CompFreq'.\n",
    "\n",
    "Once this column is ready, it makes comparison of salaries easy.\n"
   ]
  },
  {
   "cell_type": "markdown",
   "metadata": {},
   "source": [
    "<hr>\n"
   ]
  },
  {
   "cell_type": "markdown",
   "metadata": {},
   "source": [
    "List out the various categories in the column 'CompFreq'\n"
   ]
  },
  {
   "cell_type": "code",
   "execution_count": null,
   "metadata": {},
   "outputs": [],
   "source": [
    "# your code goes here\n"
   ]
  },
  {
   "cell_type": "markdown",
   "metadata": {},
   "source": [
    "Create a new column named 'NormalizedAnnualCompensation'. Use the hint given below if needed.\n"
   ]
  },
  {
   "cell_type": "markdown",
   "metadata": {},
   "source": [
    "Double click to see the **Hint**.\n",
    "\n",
    "<!--\n",
    "\n",
    "Use the below logic to arrive at the values for the column NormalizedAnnualCompensation.\n",
    "\n",
    "If the CompFreq is Yearly then use the exising value in CompTotal\n",
    "If the CompFreq is Monthly then multiply the value in CompTotal with 12 (months in an year)\n",
    "If the CompFreq is Weekly then multiply the value in CompTotal with 52 (weeks in an year)\n",
    "\n",
    "-->\n"
   ]
  },
  {
   "cell_type": "code",
   "execution_count": null,
   "metadata": {},
   "outputs": [],
   "source": [
    "# your code goes here\n"
   ]
  },
  {
   "cell_type": "markdown",
   "metadata": {},
   "source": [
    "## Authors\n"
   ]
  },
  {
   "cell_type": "markdown",
   "metadata": {},
   "source": [
    "Ramesh Sannareddy\n"
   ]
  },
  {
   "cell_type": "markdown",
   "metadata": {},
   "source": [
    "### Other Contributors\n"
   ]
  },
  {
   "cell_type": "markdown",
   "metadata": {},
   "source": [
    "Rav Ahuja\n"
   ]
  },
  {
   "cell_type": "markdown",
   "metadata": {},
   "source": [
    "## Change Log\n"
   ]
  },
  {
   "cell_type": "markdown",
   "metadata": {},
   "source": [
    "| Date (YYYY-MM-DD) | Version | Changed By        | Change Description                 |\n",
    "| ----------------- | ------- | ----------------- | ---------------------------------- |\n",
    "| 2020-10-17        | 0.1     | Ramesh Sannareddy | Created initial version of the lab |\n"
   ]
  },
  {
   "cell_type": "markdown",
   "metadata": {},
   "source": [
    " Copyright © 2020 IBM Corporation. This notebook and its source code are released under the terms of the [MIT License](https://cognitiveclass.ai/mit-license?utm_medium=Exinfluencer&utm_source=Exinfluencer&utm_content=000026UJ&utm_term=10006555&utm_id=NA-SkillsNetwork-Channel-SkillsNetworkCoursesIBMDA0321ENSkillsNetwork928-2022-01-01&cm_mmc=Email_Newsletter-_-Developer_Ed%2BTech-_-WW_WW-_-SkillsNetwork-Courses-IBM-DA0321EN-SkillsNetwork-21426264&cm_mmca1=000026UJ&cm_mmca2=10006555&cm_mmca3=M12345678&cvosrc=email.Newsletter.M12345678&cvo_campaign=000026UJ).\n"
   ]
  }
 ],
 "metadata": {
  "kernelspec": {
   "display_name": "Python 3 (ipykernel)",
   "language": "python",
   "name": "python3"
  },
  "language_info": {
   "codemirror_mode": {
    "name": "ipython",
    "version": 3
   },
   "file_extension": ".py",
   "mimetype": "text/x-python",
   "name": "python",
   "nbconvert_exporter": "python",
   "pygments_lexer": "ipython3",
   "version": "3.11.5"
  }
 },
 "nbformat": 4,
 "nbformat_minor": 4
}
